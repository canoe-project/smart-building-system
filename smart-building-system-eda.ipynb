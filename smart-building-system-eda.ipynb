{
 "cells": [
  {
   "cell_type": "markdown",
   "id": "ae38717f",
   "metadata": {
    "papermill": {
     "duration": 0.018029,
     "end_time": "2022-02-19T20:12:38.694573",
     "exception": false,
     "start_time": "2022-02-19T20:12:38.676544",
     "status": "completed"
    },
    "tags": []
   },
   "source": [
    "<a id = \"1\"></a><h1 id=\"Salary Prediction with Machine Learning\"><span class=\"label label-default\" style=\"background-color:#f5c0c0; font-size:30px; \n",
    "color: Black; \">Smart Building System</span></h1>\n",
    "\n",
    "# Context\n",
    "This dataset is collected from 255 sensor time series, instrumented in 51 rooms in 4 floors of the Sutardja Dai Hall(SDH) at UC Berkeley. It can be used to investigate patterns in physical properties of a room in a building. Moreover, it can also be used for experiments relating to Internet-of-Things (IoT), sensor fusion network or time-series tasks. This dataset is suitable for both supervised (classification and regression) and unsupervised learning (clustering) tasks.\n",
    "\n",
    "# Content\n",
    "Each room includes 5 types of measurements: CO2 concentration, room air humidity, room temperature, luminosity, and PIR motion sensor data, collected over a period of one week from Friday, August 23, 2013 to Saturday, August 31, 2013. The PIR motion sensor is sampled once every 10 seconds and the remaining sensors are sampled once every 5 seconds. Each file contains the timestamps (in Unix Epoch Time) and actual readings from the sensor.\n",
    "\n",
    "The passive infrared sensor (PIR sensor) is an electronic sensor that measures infrared (IR) light radiating from objects in its field of view, which measures the occupancy in a room. Approximately 6% of the PIR data is non-zero, indicating an occupied status of the room. The remaining 94% of the PIR data is zero, indicating an empty room.\n",
    "\n",
    "# Acknowledgments\n",
    "If you use the dataset, please consider citing the following paper:\n",
    "Dezhi Hong, Quanquan Gu, Kamin Whitehouse. High-dimensional Time Series Clustering via Cross-Predictability. In AISTATS'17.\n",
    "\n",
    "\n",
    "# Okay, let's start."
   ]
  },
  {
   "cell_type": "code",
   "execution_count": 8,
   "id": "86caa2ab",
   "metadata": {
    "_cell_guid": "b1076dfc-b9ad-4769-8c92-a6c4dae69d19",
    "_kg_hide-input": true,
    "_kg_hide-output": true,
    "_uuid": "8f2839f25d086af736a60e9eeb907d3b93b6e0e5",
    "execution": {
     "iopub.execute_input": "2022-02-19T20:12:38.731385Z",
     "iopub.status.busy": "2022-02-19T20:12:38.730209Z",
     "iopub.status.idle": "2022-02-19T20:12:40.104356Z",
     "shell.execute_reply": "2022-02-19T20:12:40.105007Z"
    },
    "papermill": {
     "duration": 1.394247,
     "end_time": "2022-02-19T20:12:40.105307",
     "exception": false,
     "start_time": "2022-02-19T20:12:38.711060",
     "status": "completed"
    },
    "tags": []
   },
   "outputs": [
    {
     "name": "stdout",
     "output_type": "stream",
     "text": [
      "./data\\KETI\\README.txt\n",
      "./data\\KETI\\413\\co2.csv\n",
      "./data\\KETI\\413\\humidity.csv\n",
      "./data\\KETI\\413\\light.csv\n",
      "./data\\KETI\\413\\pir.csv\n",
      "./data\\KETI\\413\\temperature.csv\n",
      "./data\\KETI\\415\\co2.csv\n",
      "./data\\KETI\\415\\humidity.csv\n",
      "./data\\KETI\\415\\light.csv\n",
      "./data\\KETI\\415\\pir.csv\n",
      "./data\\KETI\\415\\temperature.csv\n",
      "./data\\KETI\\417\\co2.csv\n",
      "./data\\KETI\\417\\humidity.csv\n",
      "./data\\KETI\\417\\light.csv\n",
      "./data\\KETI\\417\\pir.csv\n",
      "./data\\KETI\\417\\temperature.csv\n",
      "./data\\KETI\\419\\co2.csv\n",
      "./data\\KETI\\419\\humidity.csv\n",
      "./data\\KETI\\419\\light.csv\n",
      "./data\\KETI\\419\\pir.csv\n",
      "./data\\KETI\\419\\temperature.csv\n",
      "./data\\KETI\\421\\co2.csv\n",
      "./data\\KETI\\421\\humidity.csv\n",
      "./data\\KETI\\421\\light.csv\n",
      "./data\\KETI\\421\\pir.csv\n",
      "./data\\KETI\\421\\temperature.csv\n",
      "./data\\KETI\\422\\co2.csv\n",
      "./data\\KETI\\422\\humidity.csv\n",
      "./data\\KETI\\422\\light.csv\n",
      "./data\\KETI\\422\\pir.csv\n",
      "./data\\KETI\\422\\temperature.csv\n",
      "./data\\KETI\\423\\co2.csv\n",
      "./data\\KETI\\423\\humidity.csv\n",
      "./data\\KETI\\423\\light.csv\n",
      "./data\\KETI\\423\\pir.csv\n",
      "./data\\KETI\\423\\temperature.csv\n",
      "./data\\KETI\\424\\co2.csv\n",
      "./data\\KETI\\424\\humidity.csv\n",
      "./data\\KETI\\424\\light.csv\n",
      "./data\\KETI\\424\\pir.csv\n",
      "./data\\KETI\\424\\temperature.csv\n",
      "./data\\KETI\\442\\co2.csv\n",
      "./data\\KETI\\442\\humidity.csv\n",
      "./data\\KETI\\442\\light.csv\n",
      "./data\\KETI\\442\\pir.csv\n",
      "./data\\KETI\\442\\temperature.csv\n",
      "./data\\KETI\\446\\co2.csv\n",
      "./data\\KETI\\446\\humidity.csv\n",
      "./data\\KETI\\446\\light.csv\n",
      "./data\\KETI\\446\\pir.csv\n",
      "./data\\KETI\\446\\temperature.csv\n",
      "./data\\KETI\\448\\co2.csv\n",
      "./data\\KETI\\448\\humidity.csv\n",
      "./data\\KETI\\448\\light.csv\n",
      "./data\\KETI\\448\\pir.csv\n",
      "./data\\KETI\\448\\temperature.csv\n",
      "./data\\KETI\\452\\co2.csv\n",
      "./data\\KETI\\452\\humidity.csv\n",
      "./data\\KETI\\452\\light.csv\n",
      "./data\\KETI\\452\\pir.csv\n",
      "./data\\KETI\\452\\temperature.csv\n",
      "./data\\KETI\\454\\co2.csv\n",
      "./data\\KETI\\454\\humidity.csv\n",
      "./data\\KETI\\454\\light.csv\n",
      "./data\\KETI\\454\\pir.csv\n",
      "./data\\KETI\\454\\temperature.csv\n",
      "./data\\KETI\\456\\co2.csv\n",
      "./data\\KETI\\456\\humidity.csv\n",
      "./data\\KETI\\456\\light.csv\n",
      "./data\\KETI\\456\\pir.csv\n",
      "./data\\KETI\\456\\temperature.csv\n",
      "./data\\KETI\\458\\co2.csv\n",
      "./data\\KETI\\458\\humidity.csv\n",
      "./data\\KETI\\458\\light.csv\n",
      "./data\\KETI\\458\\pir.csv\n",
      "./data\\KETI\\458\\temperature.csv\n",
      "./data\\KETI\\462\\co2.csv\n",
      "./data\\KETI\\462\\humidity.csv\n",
      "./data\\KETI\\462\\light.csv\n",
      "./data\\KETI\\462\\pir.csv\n",
      "./data\\KETI\\462\\temperature.csv\n",
      "./data\\KETI\\510\\co2.csv\n",
      "./data\\KETI\\510\\humidity.csv\n",
      "./data\\KETI\\510\\light.csv\n",
      "./data\\KETI\\510\\pir.csv\n",
      "./data\\KETI\\510\\temperature.csv\n",
      "./data\\KETI\\511\\co2.csv\n",
      "./data\\KETI\\511\\humidity.csv\n",
      "./data\\KETI\\511\\light.csv\n",
      "./data\\KETI\\511\\pir.csv\n",
      "./data\\KETI\\511\\temperature.csv\n",
      "./data\\KETI\\513\\co2.csv\n",
      "./data\\KETI\\513\\humidity.csv\n",
      "./data\\KETI\\513\\light.csv\n",
      "./data\\KETI\\513\\pir.csv\n",
      "./data\\KETI\\513\\temperature.csv\n",
      "./data\\KETI\\552\\co2.csv\n",
      "./data\\KETI\\552\\humidity.csv\n",
      "./data\\KETI\\552\\light.csv\n",
      "./data\\KETI\\552\\pir.csv\n",
      "./data\\KETI\\552\\temperature.csv\n",
      "./data\\KETI\\554\\co2.csv\n",
      "./data\\KETI\\554\\humidity.csv\n",
      "./data\\KETI\\554\\light.csv\n",
      "./data\\KETI\\554\\pir.csv\n",
      "./data\\KETI\\554\\temperature.csv\n",
      "./data\\KETI\\556\\co2.csv\n",
      "./data\\KETI\\556\\humidity.csv\n",
      "./data\\KETI\\556\\light.csv\n",
      "./data\\KETI\\556\\pir.csv\n",
      "./data\\KETI\\556\\temperature.csv\n",
      "./data\\KETI\\558\\co2.csv\n",
      "./data\\KETI\\558\\humidity.csv\n",
      "./data\\KETI\\558\\light.csv\n",
      "./data\\KETI\\558\\pir.csv\n",
      "./data\\KETI\\558\\temperature.csv\n",
      "./data\\KETI\\562\\co2.csv\n",
      "./data\\KETI\\562\\humidity.csv\n",
      "./data\\KETI\\562\\light.csv\n",
      "./data\\KETI\\562\\pir.csv\n",
      "./data\\KETI\\562\\temperature.csv\n",
      "./data\\KETI\\564\\co2.csv\n",
      "./data\\KETI\\564\\humidity.csv\n",
      "./data\\KETI\\564\\light.csv\n",
      "./data\\KETI\\564\\pir.csv\n",
      "./data\\KETI\\564\\temperature.csv\n",
      "./data\\KETI\\621\\co2.csv\n",
      "./data\\KETI\\621\\humidity.csv\n",
      "./data\\KETI\\621\\light.csv\n",
      "./data\\KETI\\621\\pir.csv\n",
      "./data\\KETI\\621\\temperature.csv\n",
      "./data\\KETI\\621A\\co2.csv\n",
      "./data\\KETI\\621A\\humidity.csv\n",
      "./data\\KETI\\621A\\light.csv\n",
      "./data\\KETI\\621A\\pir.csv\n",
      "./data\\KETI\\621A\\temperature.csv\n",
      "./data\\KETI\\621C\\co2.csv\n",
      "./data\\KETI\\621C\\humidity.csv\n",
      "./data\\KETI\\621C\\light.csv\n",
      "./data\\KETI\\621C\\pir.csv\n",
      "./data\\KETI\\621C\\temperature.csv\n",
      "./data\\KETI\\621D\\co2.csv\n",
      "./data\\KETI\\621D\\humidity.csv\n",
      "./data\\KETI\\621D\\light.csv\n",
      "./data\\KETI\\621D\\pir.csv\n",
      "./data\\KETI\\621D\\temperature.csv\n",
      "./data\\KETI\\621E\\co2.csv\n",
      "./data\\KETI\\621E\\humidity.csv\n",
      "./data\\KETI\\621E\\light.csv\n",
      "./data\\KETI\\621E\\pir.csv\n",
      "./data\\KETI\\621E\\temperature.csv\n",
      "./data\\KETI\\640\\co2.csv\n",
      "./data\\KETI\\640\\humidity.csv\n",
      "./data\\KETI\\640\\light.csv\n",
      "./data\\KETI\\640\\pir.csv\n",
      "./data\\KETI\\640\\temperature.csv\n",
      "./data\\KETI\\644\\co2.csv\n",
      "./data\\KETI\\644\\humidity.csv\n",
      "./data\\KETI\\644\\light.csv\n",
      "./data\\KETI\\644\\pir.csv\n",
      "./data\\KETI\\644\\temperature.csv\n",
      "./data\\KETI\\648\\co2.csv\n",
      "./data\\KETI\\648\\humidity.csv\n",
      "./data\\KETI\\648\\light.csv\n",
      "./data\\KETI\\648\\pir.csv\n",
      "./data\\KETI\\648\\temperature.csv\n",
      "./data\\KETI\\656A\\co2.csv\n",
      "./data\\KETI\\656A\\humidity.csv\n",
      "./data\\KETI\\656A\\light.csv\n",
      "./data\\KETI\\656A\\pir.csv\n",
      "./data\\KETI\\656A\\temperature.csv\n",
      "./data\\KETI\\656B\\co2.csv\n",
      "./data\\KETI\\656B\\humidity.csv\n",
      "./data\\KETI\\656B\\light.csv\n",
      "./data\\KETI\\656B\\pir.csv\n",
      "./data\\KETI\\656B\\temperature.csv\n",
      "./data\\KETI\\664\\co2.csv\n",
      "./data\\KETI\\664\\humidity.csv\n",
      "./data\\KETI\\664\\light.csv\n",
      "./data\\KETI\\664\\pir.csv\n",
      "./data\\KETI\\664\\temperature.csv\n",
      "./data\\KETI\\666\\co2.csv\n",
      "./data\\KETI\\666\\humidity.csv\n",
      "./data\\KETI\\666\\light.csv\n",
      "./data\\KETI\\666\\pir.csv\n",
      "./data\\KETI\\666\\temperature.csv\n",
      "./data\\KETI\\668\\co2.csv\n",
      "./data\\KETI\\668\\humidity.csv\n",
      "./data\\KETI\\668\\light.csv\n",
      "./data\\KETI\\668\\pir.csv\n",
      "./data\\KETI\\668\\temperature.csv\n",
      "./data\\KETI\\717\\co2.csv\n",
      "./data\\KETI\\717\\humidity.csv\n",
      "./data\\KETI\\717\\light.csv\n",
      "./data\\KETI\\717\\pir.csv\n",
      "./data\\KETI\\717\\temperature.csv\n",
      "./data\\KETI\\719\\co2.csv\n",
      "./data\\KETI\\719\\humidity.csv\n",
      "./data\\KETI\\719\\light.csv\n",
      "./data\\KETI\\719\\pir.csv\n",
      "./data\\KETI\\719\\temperature.csv\n",
      "./data\\KETI\\721\\co2.csv\n",
      "./data\\KETI\\721\\humidity.csv\n",
      "./data\\KETI\\721\\light.csv\n",
      "./data\\KETI\\721\\pir.csv\n",
      "./data\\KETI\\721\\temperature.csv\n",
      "./data\\KETI\\722\\co2.csv\n",
      "./data\\KETI\\722\\humidity.csv\n",
      "./data\\KETI\\722\\light.csv\n",
      "./data\\KETI\\722\\pir.csv\n",
      "./data\\KETI\\722\\temperature.csv\n",
      "./data\\KETI\\723\\co2.csv\n",
      "./data\\KETI\\723\\humidity.csv\n",
      "./data\\KETI\\723\\light.csv\n",
      "./data\\KETI\\723\\pir.csv\n",
      "./data\\KETI\\723\\temperature.csv\n",
      "./data\\KETI\\724\\co2.csv\n",
      "./data\\KETI\\724\\humidity.csv\n",
      "./data\\KETI\\724\\light.csv\n",
      "./data\\KETI\\724\\pir.csv\n",
      "./data\\KETI\\724\\temperature.csv\n",
      "./data\\KETI\\726\\co2.csv\n",
      "./data\\KETI\\726\\humidity.csv\n",
      "./data\\KETI\\726\\light.csv\n",
      "./data\\KETI\\726\\pir.csv\n",
      "./data\\KETI\\726\\temperature.csv\n",
      "./data\\KETI\\734\\co2.csv\n",
      "./data\\KETI\\734\\humidity.csv\n",
      "./data\\KETI\\734\\light.csv\n",
      "./data\\KETI\\734\\pir.csv\n",
      "./data\\KETI\\734\\temperature.csv\n",
      "./data\\KETI\\746\\co2.csv\n",
      "./data\\KETI\\746\\humidity.csv\n",
      "./data\\KETI\\746\\light.csv\n",
      "./data\\KETI\\746\\pir.csv\n",
      "./data\\KETI\\746\\temperature.csv\n",
      "./data\\KETI\\748\\co2.csv\n",
      "./data\\KETI\\748\\humidity.csv\n",
      "./data\\KETI\\748\\light.csv\n",
      "./data\\KETI\\748\\pir.csv\n",
      "./data\\KETI\\748\\temperature.csv\n",
      "./data\\KETI\\752\\co2.csv\n",
      "./data\\KETI\\752\\humidity.csv\n",
      "./data\\KETI\\752\\light.csv\n",
      "./data\\KETI\\752\\pir.csv\n",
      "./data\\KETI\\752\\temperature.csv\n",
      "./data\\KETI\\754\\co2.csv\n",
      "./data\\KETI\\754\\humidity.csv\n",
      "./data\\KETI\\754\\light.csv\n",
      "./data\\KETI\\754\\pir.csv\n",
      "./data\\KETI\\754\\temperature.csv\n",
      "./data\\KETI\\776\\co2.csv\n",
      "./data\\KETI\\776\\humidity.csv\n",
      "./data\\KETI\\776\\light.csv\n",
      "./data\\KETI\\776\\pir.csv\n",
      "./data\\KETI\\776\\temperature.csv\n"
     ]
    }
   ],
   "source": [
    "# This Python 3 environment comes with many helpful analytics libraries installed\n",
    "# It is defined by the kaggle/python Docker image: https://github.com/kaggle/docker-python\n",
    "# For example, here's several helpful packages to load\n",
    "\n",
    "import numpy as np # linear algebra\n",
    "import pandas as pd # data processing, CSV file I/O (e.g. pd.read_csv)\n",
    "import warnings\n",
    "import matplotlib.pyplot as plt\n",
    "import seaborn as sns\n",
    "warnings.filterwarnings(\"ignore\", category=DeprecationWarning)\n",
    "warnings.filterwarnings(\"ignore\", category=FutureWarning)\n",
    "pd.set_option('display.max_columns', None)\n",
    "pd.set_option('display.float_format', lambda x: '%.2f' % x)\n",
    "\n",
    "# Input data files are available in the read-only \"../input/\" directory\n",
    "# For example, running this (by clicking run or pressing Shift+Enter) will list all files under the input directory\n",
    "\n",
    "import os\n",
    "for dirname, _, filenames in os.walk('./data'):\n",
    "    for filename in filenames:\n",
    "        print(os.path.join(dirname, filename))\n",
    "\n",
    "# You can write up to 20GB to the current directory (/kaggle/working/) that gets preserved as output when you create a version using \"Save & Run All\" \n",
    "# You can also write temporary files to /kaggle/temp/, but they won't be saved outside of the current session"
   ]
  },
  {
   "cell_type": "code",
   "execution_count": 10,
   "id": "6613656a",
   "metadata": {
    "_kg_hide-input": true,
    "_kg_hide-output": true,
    "execution": {
     "iopub.execute_input": "2022-02-19T20:12:40.151919Z",
     "iopub.status.busy": "2022-02-19T20:12:40.151047Z",
     "iopub.status.idle": "2022-02-19T20:13:17.075820Z",
     "shell.execute_reply": "2022-02-19T20:13:17.074953Z"
    },
    "papermill": {
     "duration": 36.952769,
     "end_time": "2022-02-19T20:13:17.075982",
     "exception": false,
     "start_time": "2022-02-19T20:12:40.123213",
     "status": "completed"
    },
    "tags": []
   },
   "outputs": [
    {
     "name": "stdout",
     "output_type": "stream",
     "text": [
      "Room ID:  data\\KETI\\413\n",
      "Room ID:  data\\KETI\\415\n",
      "Room ID:  data\\KETI\\417\n",
      "Room ID:  data\\KETI\\419\n",
      "Room ID:  data\\KETI\\421\n",
      "Room ID:  data\\KETI\\422\n",
      "Room ID:  data\\KETI\\423\n",
      "Room ID:  data\\KETI\\424\n",
      "Room ID:  data\\KETI\\442\n",
      "Room ID:  data\\KETI\\446\n",
      "Room ID:  data\\KETI\\448\n",
      "Room ID:  data\\KETI\\452\n",
      "Room ID:  data\\KETI\\454\n",
      "Room ID:  data\\KETI\\456\n",
      "Room ID:  data\\KETI\\458\n",
      "Room ID:  data\\KETI\\462\n",
      "Room ID:  data\\KETI\\510\n",
      "Room ID:  data\\KETI\\511\n",
      "Room ID:  data\\KETI\\513\n",
      "Room ID:  data\\KETI\\552\n",
      "Room ID:  data\\KETI\\554\n",
      "Room ID:  data\\KETI\\556\n",
      "Room ID:  data\\KETI\\558\n",
      "Room ID:  data\\KETI\\562\n",
      "Room ID:  data\\KETI\\564\n",
      "Room ID:  data\\KETI\\621\n",
      "Room ID:  data\\KETI\\621A\n",
      "Room ID:  data\\KETI\\621C\n",
      "Room ID:  data\\KETI\\621D\n",
      "Room ID:  data\\KETI\\621E\n",
      "Room ID:  data\\KETI\\640\n",
      "Room ID:  data\\KETI\\644\n",
      "Room ID:  data\\KETI\\648\n",
      "Room ID:  data\\KETI\\656A\n",
      "Room ID:  data\\KETI\\656B\n",
      "Room ID:  data\\KETI\\664\n",
      "Room ID:  data\\KETI\\666\n",
      "Room ID:  data\\KETI\\668\n",
      "Room ID:  data\\KETI\\717\n",
      "Room ID:  data\\KETI\\719\n",
      "Room ID:  data\\KETI\\721\n",
      "Room ID:  data\\KETI\\722\n",
      "Room ID:  data\\KETI\\723\n",
      "Room ID:  data\\KETI\\724\n",
      "Room ID:  data\\KETI\\726\n",
      "Room ID:  data\\KETI\\734\n",
      "Room ID:  data\\KETI\\746\n",
      "Room ID:  data\\KETI\\748\n",
      "Room ID:  data\\KETI\\752\n",
      "Room ID:  data\\KETI\\754\n",
      "Room ID:  data\\KETI\\776\n"
     ]
    }
   ],
   "source": [
    "df = pd.DataFrame()\n",
    "\n",
    "\n",
    "for dirname, _, filenames in os.walk('./data'):\n",
    "            \n",
    "    if len(filenames) > 1:\n",
    "        \n",
    "        room_df = pd.DataFrame()\n",
    "\n",
    "        room_id = dirname.split('/')[-1]\n",
    "         \n",
    "        print('Room ID: ', room_id)\n",
    "\n",
    "        for i, filename in enumerate(filenames):\n",
    "            \n",
    "#             print(filename)\n",
    "            \n",
    "            feat_name = filename.split('.')[0]\n",
    "            tmp_df = pd.read_csv(os.path.join(dirname, filename), names=[feat_name], header=0)        \n",
    "            \n",
    "            if i == 0:\n",
    "                room_df = tmp_df\n",
    "                \n",
    "            else:\n",
    "\n",
    "                room_df = pd.concat([room_df, tmp_df], axis=1, join=\"outer\")\n",
    "    \n",
    "        room_df['room_ID'] = [room_id]*room_df.shape[0]\n",
    "        \n",
    "        df = pd.concat([df, room_df], axis=0)"
   ]
  },
  {
   "cell_type": "code",
   "execution_count": 11,
   "id": "f6e35e75",
   "metadata": {
    "_kg_hide-input": true,
    "execution": {
     "iopub.execute_input": "2022-02-19T20:13:17.146325Z",
     "iopub.status.busy": "2022-02-19T20:13:17.145362Z",
     "iopub.status.idle": "2022-02-19T20:13:18.847135Z",
     "shell.execute_reply": "2022-02-19T20:13:18.847671Z"
    },
    "papermill": {
     "duration": 1.738744,
     "end_time": "2022-02-19T20:13:18.847851",
     "exception": false,
     "start_time": "2022-02-19T20:13:17.109107",
     "status": "completed"
    },
    "tags": []
   },
   "outputs": [
    {
     "name": "stdout",
     "output_type": "stream",
     "text": [
      "Shape:  (co2             6573957\n",
      "humidity        6571414\n",
      "light           6571412\n",
      "pir             3593902\n",
      "temperature     6571454\n",
      "room_ID        14381528\n",
      "dtype: int64, 6)\n"
     ]
    }
   ],
   "source": [
    "print(\"Shape: \", (df.count(), len(df.columns)))"
   ]
  },
  {
   "cell_type": "code",
   "execution_count": 12,
   "id": "8332ed52",
   "metadata": {
    "_kg_hide-input": true,
    "execution": {
     "iopub.execute_input": "2022-02-19T20:13:18.919340Z",
     "iopub.status.busy": "2022-02-19T20:13:18.918721Z",
     "iopub.status.idle": "2022-02-19T20:13:18.936209Z",
     "shell.execute_reply": "2022-02-19T20:13:18.935578Z"
    },
    "papermill": {
     "duration": 0.054352,
     "end_time": "2022-02-19T20:13:18.936346",
     "exception": false,
     "start_time": "2022-02-19T20:13:18.881994",
     "status": "completed"
    },
    "tags": []
   },
   "outputs": [
    {
     "data": {
      "text/html": [
       "<div>\n",
       "<style scoped>\n",
       "    .dataframe tbody tr th:only-of-type {\n",
       "        vertical-align: middle;\n",
       "    }\n",
       "\n",
       "    .dataframe tbody tr th {\n",
       "        vertical-align: top;\n",
       "    }\n",
       "\n",
       "    .dataframe thead th {\n",
       "        text-align: right;\n",
       "    }\n",
       "</style>\n",
       "<table border=\"1\" class=\"dataframe\">\n",
       "  <thead>\n",
       "    <tr style=\"text-align: right;\">\n",
       "      <th></th>\n",
       "      <th>co2</th>\n",
       "      <th>humidity</th>\n",
       "      <th>light</th>\n",
       "      <th>pir</th>\n",
       "      <th>temperature</th>\n",
       "      <th>room_ID</th>\n",
       "    </tr>\n",
       "  </thead>\n",
       "  <tbody>\n",
       "    <tr>\n",
       "      <th>1377299108</th>\n",
       "      <td>495.00</td>\n",
       "      <td>45.34</td>\n",
       "      <td>97.00</td>\n",
       "      <td>NaN</td>\n",
       "      <td>23.94</td>\n",
       "      <td>data\\KETI\\413</td>\n",
       "    </tr>\n",
       "    <tr>\n",
       "      <th>1377299110</th>\n",
       "      <td>487.00</td>\n",
       "      <td>NaN</td>\n",
       "      <td>NaN</td>\n",
       "      <td>NaN</td>\n",
       "      <td>NaN</td>\n",
       "      <td>data\\KETI\\413</td>\n",
       "    </tr>\n",
       "    <tr>\n",
       "      <th>1377299127</th>\n",
       "      <td>496.00</td>\n",
       "      <td>NaN</td>\n",
       "      <td>NaN</td>\n",
       "      <td>0.00</td>\n",
       "      <td>NaN</td>\n",
       "      <td>data\\KETI\\413</td>\n",
       "    </tr>\n",
       "    <tr>\n",
       "      <th>1377299130</th>\n",
       "      <td>495.00</td>\n",
       "      <td>NaN</td>\n",
       "      <td>NaN</td>\n",
       "      <td>0.00</td>\n",
       "      <td>NaN</td>\n",
       "      <td>data\\KETI\\413</td>\n",
       "    </tr>\n",
       "    <tr>\n",
       "      <th>1377299134</th>\n",
       "      <td>500.00</td>\n",
       "      <td>NaN</td>\n",
       "      <td>NaN</td>\n",
       "      <td>NaN</td>\n",
       "      <td>NaN</td>\n",
       "      <td>data\\KETI\\413</td>\n",
       "    </tr>\n",
       "  </tbody>\n",
       "</table>\n",
       "</div>"
      ],
      "text/plain": [
       "              co2  humidity  light  pir  temperature        room_ID\n",
       "1377299108 495.00     45.34  97.00  NaN        23.94  data\\KETI\\413\n",
       "1377299110 487.00       NaN    NaN  NaN          NaN  data\\KETI\\413\n",
       "1377299127 496.00       NaN    NaN 0.00          NaN  data\\KETI\\413\n",
       "1377299130 495.00       NaN    NaN 0.00          NaN  data\\KETI\\413\n",
       "1377299134 500.00       NaN    NaN  NaN          NaN  data\\KETI\\413"
      ]
     },
     "execution_count": 12,
     "metadata": {},
     "output_type": "execute_result"
    }
   ],
   "source": [
    "df.head()"
   ]
  },
  {
   "cell_type": "code",
   "execution_count": 13,
   "id": "2560ed4f",
   "metadata": {
    "_kg_hide-input": true,
    "execution": {
     "iopub.execute_input": "2022-02-19T20:13:19.018709Z",
     "iopub.status.busy": "2022-02-19T20:13:19.018055Z",
     "iopub.status.idle": "2022-02-19T20:13:19.022403Z",
     "shell.execute_reply": "2022-02-19T20:13:19.021862Z"
    },
    "papermill": {
     "duration": 0.051382,
     "end_time": "2022-02-19T20:13:19.022534",
     "exception": false,
     "start_time": "2022-02-19T20:13:18.971152",
     "status": "completed"
    },
    "tags": []
   },
   "outputs": [
    {
     "name": "stdout",
     "output_type": "stream",
     "text": [
      "<class 'pandas.core.frame.DataFrame'>\n",
      "Int64Index: 14381528 entries, 1377299108 to 1377948612\n",
      "Data columns (total 6 columns):\n",
      " #   Column       Dtype  \n",
      "---  ------       -----  \n",
      " 0   co2          float64\n",
      " 1   humidity     float64\n",
      " 2   light        float64\n",
      " 3   pir          float64\n",
      " 4   temperature  float64\n",
      " 5   room_ID      object \n",
      "dtypes: float64(5), object(1)\n",
      "memory usage: 768.1+ MB\n"
     ]
    }
   ],
   "source": [
    "df.info()"
   ]
  },
  {
   "cell_type": "code",
   "execution_count": 14,
   "id": "3245e6e1",
   "metadata": {
    "_kg_hide-input": true,
    "execution": {
     "iopub.execute_input": "2022-02-19T20:13:19.101584Z",
     "iopub.status.busy": "2022-02-19T20:13:19.100895Z",
     "iopub.status.idle": "2022-02-19T20:13:21.893467Z",
     "shell.execute_reply": "2022-02-19T20:13:21.894104Z"
    },
    "papermill": {
     "duration": 2.836487,
     "end_time": "2022-02-19T20:13:21.894291",
     "exception": false,
     "start_time": "2022-02-19T20:13:19.057804",
     "status": "completed"
    },
    "tags": []
   },
   "outputs": [
    {
     "name": "stdout",
     "output_type": "stream",
     "text": [
      "##################### Shape #####################\n",
      "(14381528, 6)\n",
      "##################### Types #####################\n",
      "co2            float64\n",
      "humidity       float64\n",
      "light          float64\n",
      "pir            float64\n",
      "temperature    float64\n",
      "room_ID         object\n",
      "dtype: object\n",
      "##################### Head #####################\n",
      "              co2  humidity  light  pir  temperature        room_ID\n",
      "1377299108 495.00     45.34  97.00  NaN        23.94  data\\KETI\\413\n",
      "1377299110 487.00       NaN    NaN  NaN          NaN  data\\KETI\\413\n",
      "1377299127 496.00       NaN    NaN 0.00          NaN  data\\KETI\\413\n",
      "1377299130 495.00       NaN    NaN 0.00          NaN  data\\KETI\\413\n",
      "1377299134 500.00       NaN    NaN  NaN          NaN  data\\KETI\\413\n",
      "##################### Tail #####################\n",
      "            co2  humidity  light  pir  temperature        room_ID\n",
      "1377565664  NaN       NaN    NaN  NaN        24.57  data\\KETI\\776\n",
      "1377595353  NaN       NaN    NaN  NaN        22.15  data\\KETI\\776\n",
      "1377597253  NaN       NaN    NaN  NaN        22.04  data\\KETI\\776\n",
      "1377837160  NaN       NaN    NaN  NaN        23.95  data\\KETI\\776\n",
      "1377948612  NaN       NaN    NaN  NaN        23.28  data\\KETI\\776\n",
      "##################### NA #####################\n",
      "co2             7807571\n",
      "humidity        7810114\n",
      "light           7810116\n",
      "pir            10787626\n",
      "temperature     7810074\n",
      "room_ID               0\n",
      "dtype: int64\n",
      "##################### Quantiles #####################\n",
      "               0.00   0.05   0.50   0.95    0.99     1.00\n",
      "co2            8.00 257.00 410.00 574.00  726.00  1699.00\n",
      "humidity    -500.96  49.29  57.01  63.50   66.30    71.91\n",
      "light          0.00   2.00   5.00 251.00 2183.00 30551.00\n",
      "pir            0.00   0.00   0.00  24.00   30.00 34456.00\n",
      "temperature  -40.10  21.50  23.11  25.24   26.40   579.27\n"
     ]
    }
   ],
   "source": [
    "def check_df(dataframe, head=5):\n",
    "    print(\"##################### Shape #####################\")\n",
    "    print(dataframe.shape)\n",
    "    print(\"##################### Types #####################\")\n",
    "    print(dataframe.dtypes)\n",
    "    print(\"##################### Head #####################\")\n",
    "    print(dataframe.head(head))\n",
    "    print(\"##################### Tail #####################\")\n",
    "    print(dataframe.tail(head))\n",
    "    print(\"##################### NA #####################\")\n",
    "    print(dataframe.isnull().sum())\n",
    "    print(\"##################### Quantiles #####################\")\n",
    "    print(dataframe.quantile([0, 0.05, 0.50, 0.95, 0.99, 1]).T)\n",
    "check_df(df)"
   ]
  },
  {
   "cell_type": "code",
   "execution_count": 15,
   "id": "8160d194",
   "metadata": {
    "execution": {
     "iopub.execute_input": "2022-02-19T20:13:21.986452Z",
     "iopub.status.busy": "2022-02-19T20:13:21.985783Z",
     "iopub.status.idle": "2022-02-19T20:13:45.164015Z",
     "shell.execute_reply": "2022-02-19T20:13:45.164580Z"
    },
    "papermill": {
     "duration": 23.227818,
     "end_time": "2022-02-19T20:13:45.164951",
     "exception": false,
     "start_time": "2022-02-19T20:13:21.937133",
     "status": "completed"
    },
    "tags": []
   },
   "outputs": [
    {
     "data": {
      "image/png": "[encoded data removed]",
      "text/plain": [
       "<Figure size 432x288 with 1 Axes>"
      ]
     },
     "metadata": {
      "needs_background": "light"
     },
     "output_type": "display_data"
    }
   ],
   "source": [
    "sns.distplot(df.light);"
   ]
  },
  {
   "cell_type": "code",
   "execution_count": 16,
   "id": "a433d58d",
   "metadata": {
    "execution": {
     "iopub.execute_input": "2022-02-19T20:13:45.264074Z",
     "iopub.status.busy": "2022-02-19T20:13:45.261533Z",
     "iopub.status.idle": "2022-02-19T20:14:07.784868Z",
     "shell.execute_reply": "2022-02-19T20:14:07.785342Z"
    },
    "papermill": {
     "duration": 22.582485,
     "end_time": "2022-02-19T20:14:07.785519",
     "exception": false,
     "start_time": "2022-02-19T20:13:45.203034",
     "status": "completed"
    },
    "tags": []
   },
   "outputs": [
    {
     "data": {
      "image/png": "[encoded data removed]",
      "text/plain": [
       "<Figure size 432x288 with 1 Axes>"
      ]
     },
     "metadata": {
      "needs_background": "light"
     },
     "output_type": "display_data"
    }
   ],
   "source": [
    "sns.distplot(df.temperature);"
   ]
  },
  {
   "cell_type": "code",
   "execution_count": 17,
   "id": "71e5028f",
   "metadata": {
    "execution": {
     "iopub.execute_input": "2022-02-19T20:14:07.865966Z",
     "iopub.status.busy": "2022-02-19T20:14:07.864209Z",
     "iopub.status.idle": "2022-02-19T20:14:31.612574Z",
     "shell.execute_reply": "2022-02-19T20:14:31.613118Z"
    },
    "papermill": {
     "duration": 23.789847,
     "end_time": "2022-02-19T20:14:31.613299",
     "exception": false,
     "start_time": "2022-02-19T20:14:07.823452",
     "status": "completed"
    },
    "tags": []
   },
   "outputs": [
    {
     "data": {
      "image/png": "[encoded data removed]",
      "text/plain": [
       "<Figure size 432x288 with 1 Axes>"
      ]
     },
     "metadata": {
      "needs_background": "light"
     },
     "output_type": "display_data"
    }
   ],
   "source": [
    "sns.distplot(df.co2);"
   ]
  },
  {
   "cell_type": "code",
   "execution_count": 18,
   "id": "f220a490",
   "metadata": {
    "execution": {
     "iopub.execute_input": "2022-02-19T20:14:31.693960Z",
     "iopub.status.busy": "2022-02-19T20:14:31.693293Z",
     "iopub.status.idle": "2022-02-19T20:14:43.746835Z",
     "shell.execute_reply": "2022-02-19T20:14:43.747389Z"
    },
    "papermill": {
     "duration": 12.095436,
     "end_time": "2022-02-19T20:14:43.747590",
     "exception": false,
     "start_time": "2022-02-19T20:14:31.652154",
     "status": "completed"
    },
    "tags": []
   },
   "outputs": [
    {
     "data": {
      "image/png": "[encoded data removed]",
      "text/plain": [
       "<Figure size 432x288 with 1 Axes>"
      ]
     },
     "metadata": {
      "needs_background": "light"
     },
     "output_type": "display_data"
    }
   ],
   "source": [
    "sns.distplot(df.pir);"
   ]
  },
  {
   "cell_type": "code",
   "execution_count": 19,
   "id": "09a5d8fb",
   "metadata": {
    "execution": {
     "iopub.execute_input": "2022-02-19T20:14:43.830485Z",
     "iopub.status.busy": "2022-02-19T20:14:43.829423Z",
     "iopub.status.idle": "2022-02-19T20:15:06.418053Z",
     "shell.execute_reply": "2022-02-19T20:15:06.417312Z"
    },
    "papermill": {
     "duration": 22.631201,
     "end_time": "2022-02-19T20:15:06.418209",
     "exception": false,
     "start_time": "2022-02-19T20:14:43.787008",
     "status": "completed"
    },
    "tags": []
   },
   "outputs": [
    {
     "data": {
      "image/png": "[encoded data removed]",
      "text/plain": [
       "<Figure size 432x288 with 1 Axes>"
      ]
     },
     "metadata": {
      "needs_background": "light"
     },
     "output_type": "display_data"
    }
   ],
   "source": [
    "sns.distplot(df.humidity );"
   ]
  },
  {
   "cell_type": "code",
   "execution_count": 20,
   "id": "16beaee2",
   "metadata": {
    "execution": {
     "iopub.execute_input": "2022-02-19T20:15:06.527952Z",
     "iopub.status.busy": "2022-02-19T20:15:06.527180Z",
     "iopub.status.idle": "2022-02-19T20:15:08.530289Z",
     "shell.execute_reply": "2022-02-19T20:15:08.529732Z"
    },
    "papermill": {
     "duration": 2.070198,
     "end_time": "2022-02-19T20:15:08.530448",
     "exception": false,
     "start_time": "2022-02-19T20:15:06.460250",
     "status": "completed"
    },
    "tags": []
   },
   "outputs": [
    {
     "data": {
      "image/png": "[encoded data removed]",
      "text/plain": [
       "<Figure size 576x576 with 2 Axes>"
      ]
     },
     "metadata": {
      "needs_background": "light"
     },
     "output_type": "display_data"
    }
   ],
   "source": [
    "f, ax = plt.subplots(figsize= [8,8])\n",
    "sns.heatmap(df.corr(), annot=True, fmt=\".2f\", ax=ax, cmap = \"Blues\" )\n",
    "ax.set_title(\"Correlation Matrix\", fontsize=18)\n",
    "plt.show()"
   ]
  },
  {
   "cell_type": "code",
   "execution_count": 21,
   "id": "b9a6ee58",
   "metadata": {
    "execution": {
     "iopub.execute_input": "2022-02-19T20:15:08.629155Z",
     "iopub.status.busy": "2022-02-19T20:15:08.625067Z",
     "iopub.status.idle": "2022-02-19T20:15:11.924076Z",
     "shell.execute_reply": "2022-02-19T20:15:11.923081Z"
    },
    "papermill": {
     "duration": 3.352154,
     "end_time": "2022-02-19T20:15:11.924308",
     "exception": false,
     "start_time": "2022-02-19T20:15:08.572154",
     "status": "completed"
    },
    "tags": []
   },
   "outputs": [
    {
     "name": "stdout",
     "output_type": "stream",
     "text": [
      "Observations: 14381528\n",
      "Variables: 6\n",
      "cat_cols: 0\n",
      "num_cols: 5\n",
      "cat_but_car: 1\n",
      "num_but_cat: 0\n"
     ]
    }
   ],
   "source": [
    "#Analysis of Categorical Variables\n",
    "\n",
    "def grab_col_names(dataframe, cat_th=10, car_th=20):\n",
    "\n",
    "    # cat_cols, cat_but_car\n",
    "    cat_cols = [col for col in dataframe.columns if dataframe[col].dtypes == \"O\"]\n",
    "\n",
    "    num_but_cat = [col for col in dataframe.columns if dataframe[col].nunique() < cat_th and\n",
    "                   dataframe[col].dtypes != \"O\"]\n",
    "\n",
    "    cat_but_car = [col for col in dataframe.columns if dataframe[col].nunique() > car_th and\n",
    "                   dataframe[col].dtypes == \"O\"]\n",
    "\n",
    "    cat_cols = cat_cols + num_but_cat\n",
    "\n",
    "    cat_cols = [col for col in cat_cols if col not in cat_but_car]\n",
    "\n",
    "    # num_cols\n",
    "    num_cols = [col for col in dataframe.columns if dataframe[col].dtypes != \"O\"]\n",
    "\n",
    "    num_cols = [col for col in num_cols if col not in num_but_cat]\n",
    "\n",
    "    print(f\"Observations: {dataframe.shape[0]}\")\n",
    "    print(f\"Variables: {dataframe.shape[1]}\")\n",
    "    print(f'cat_cols: {len(cat_cols)}')\n",
    "    print(f'num_cols: {len(num_cols)}')\n",
    "    print(f'cat_but_car: {len(cat_but_car)}')\n",
    "    print(f'num_but_cat: {len(num_but_cat)}')\n",
    "\n",
    "    return cat_cols, num_cols, cat_but_car\n",
    "\n",
    "\n",
    "cat_cols, num_cols, cat_but_car = grab_col_names(df)"
   ]
  },
  {
   "cell_type": "code",
   "execution_count": 22,
   "id": "d3e35067",
   "metadata": {
    "execution": {
     "iopub.execute_input": "2022-02-19T20:15:12.019961Z",
     "iopub.status.busy": "2022-02-19T20:15:12.019197Z",
     "iopub.status.idle": "2022-02-19T20:15:13.702644Z",
     "shell.execute_reply": "2022-02-19T20:15:13.703158Z"
    },
    "papermill": {
     "duration": 1.734148,
     "end_time": "2022-02-19T20:15:13.703346",
     "exception": false,
     "start_time": "2022-02-19T20:15:11.969198",
     "status": "completed"
    },
    "tags": []
   },
   "outputs": [
    {
     "data": {
      "text/plain": [
       "True"
      ]
     },
     "execution_count": 22,
     "metadata": {},
     "output_type": "execute_result"
    }
   ],
   "source": [
    "df.isnull().values.any()"
   ]
  },
  {
   "cell_type": "code",
   "execution_count": 23,
   "id": "8c622c9f",
   "metadata": {
    "execution": {
     "iopub.execute_input": "2022-02-19T20:15:13.798905Z",
     "iopub.status.busy": "2022-02-19T20:15:13.798166Z",
     "iopub.status.idle": "2022-02-19T20:15:16.654988Z",
     "shell.execute_reply": "2022-02-19T20:15:16.655869Z"
    },
    "papermill": {
     "duration": 2.91035,
     "end_time": "2022-02-19T20:15:16.656149",
     "exception": false,
     "start_time": "2022-02-19T20:15:13.745799",
     "status": "completed"
    },
    "tags": []
   },
   "outputs": [
    {
     "name": "stdout",
     "output_type": "stream",
     "text": [
      "               n_miss  ratio\n",
      "pir          10787626  75.01\n",
      "light         7810116  54.31\n",
      "humidity      7810114  54.31\n",
      "temperature   7810074  54.31\n",
      "co2           7807571  54.29\n"
     ]
    },
    {
     "data": {
      "text/plain": [
       "['co2', 'humidity', 'light', 'pir', 'temperature']"
      ]
     },
     "execution_count": 23,
     "metadata": {},
     "output_type": "execute_result"
    }
   ],
   "source": [
    "def missing_values_table(dataframe, na_name=False):\n",
    "    na_columns = [col for col in dataframe.columns if dataframe[col].isnull().sum() > 0]\n",
    "    n_miss = dataframe[na_columns].isnull().sum().sort_values(ascending=False)\n",
    "    ratio = (dataframe[na_columns].isnull().sum() / dataframe.shape[0] * 100).sort_values(ascending=False)\n",
    "    missing_df = pd.concat([n_miss, np.round(ratio, 2)], axis=1, keys=['n_miss', 'ratio'])\n",
    "    print(missing_df, end=\"\\n\")\n",
    "    if na_name:\n",
    "        return na_columns\n",
    "missing_values_table(df, True)"
   ]
  },
  {
   "cell_type": "code",
   "execution_count": 24,
   "id": "8994baa5",
   "metadata": {
    "execution": {
     "iopub.execute_input": "2022-02-19T20:15:16.750265Z",
     "iopub.status.busy": "2022-02-19T20:15:16.749225Z",
     "iopub.status.idle": "2022-02-19T20:15:18.436882Z",
     "shell.execute_reply": "2022-02-19T20:15:18.437509Z"
    },
    "papermill": {
     "duration": 1.73556,
     "end_time": "2022-02-19T20:15:18.437712",
     "exception": false,
     "start_time": "2022-02-19T20:15:16.702152",
     "status": "completed"
    },
    "tags": []
   },
   "outputs": [
    {
     "data": {
      "text/plain": [
       "co2             7807571\n",
       "humidity        7810114\n",
       "light           7810116\n",
       "pir            10787626\n",
       "temperature     7810074\n",
       "room_ID               0\n",
       "dtype: int64"
      ]
     },
     "execution_count": 24,
     "metadata": {},
     "output_type": "execute_result"
    }
   ],
   "source": [
    "df.isnull().sum()"
   ]
  },
  {
   "cell_type": "code",
   "execution_count": 26,
   "id": "7b5c37ca",
   "metadata": {
    "execution": {
     "iopub.execute_input": "2022-02-19T20:15:18.528719Z",
     "iopub.status.busy": "2022-02-19T20:15:18.527717Z",
     "iopub.status.idle": "2022-02-19T20:15:21.003105Z",
     "shell.execute_reply": "2022-02-19T20:15:21.002224Z"
    },
    "papermill": {
     "duration": 2.522048,
     "end_time": "2022-02-19T20:15:21.003265",
     "exception": false,
     "start_time": "2022-02-19T20:15:18.481217",
     "status": "completed"
    },
    "tags": []
   },
   "outputs": [
    {
     "data": {
      "image/png": "[encoded data removed]",
      "text/plain": [
       "<Figure size 1800x720 with 3 Axes>"
      ]
     },
     "metadata": {
      "needs_background": "light"
     },
     "output_type": "display_data"
    }
   ],
   "source": [
    "import missingno as msno\n",
    "msno.bar(df);"
   ]
  },
  {
   "cell_type": "code",
   "execution_count": 27,
   "id": "43e8fd4d",
   "metadata": {
    "execution": {
     "iopub.execute_input": "2022-02-19T20:15:21.105675Z",
     "iopub.status.busy": "2022-02-19T20:15:21.104952Z",
     "iopub.status.idle": "2022-02-19T20:15:22.995379Z",
     "shell.execute_reply": "2022-02-19T20:15:22.994739Z"
    },
    "papermill": {
     "duration": 1.943656,
     "end_time": "2022-02-19T20:15:22.995537",
     "exception": false,
     "start_time": "2022-02-19T20:15:21.051881",
     "status": "completed"
    },
    "tags": []
   },
   "outputs": [
    {
     "data": {
      "text/html": [
       "<div>\n",
       "<style scoped>\n",
       "    .dataframe tbody tr th:only-of-type {\n",
       "        vertical-align: middle;\n",
       "    }\n",
       "\n",
       "    .dataframe tbody tr th {\n",
       "        vertical-align: top;\n",
       "    }\n",
       "\n",
       "    .dataframe thead th {\n",
       "        text-align: right;\n",
       "    }\n",
       "</style>\n",
       "<table border=\"1\" class=\"dataframe\">\n",
       "  <thead>\n",
       "    <tr style=\"text-align: right;\">\n",
       "      <th></th>\n",
       "      <th>co2</th>\n",
       "      <th>humidity</th>\n",
       "      <th>light</th>\n",
       "      <th>pir</th>\n",
       "      <th>temperature</th>\n",
       "      <th>room_ID</th>\n",
       "    </tr>\n",
       "  </thead>\n",
       "  <tbody>\n",
       "    <tr>\n",
       "      <th>1377457084</th>\n",
       "      <td>459.00</td>\n",
       "      <td>52.75</td>\n",
       "      <td>103.00</td>\n",
       "      <td>0.00</td>\n",
       "      <td>23.48</td>\n",
       "      <td>data\\KETI\\413</td>\n",
       "    </tr>\n",
       "    <tr>\n",
       "      <th>1377457963</th>\n",
       "      <td>456.00</td>\n",
       "      <td>52.71</td>\n",
       "      <td>104.00</td>\n",
       "      <td>0.00</td>\n",
       "      <td>23.50</td>\n",
       "      <td>data\\KETI\\413</td>\n",
       "    </tr>\n",
       "    <tr>\n",
       "      <th>1377462175</th>\n",
       "      <td>446.00</td>\n",
       "      <td>52.43</td>\n",
       "      <td>105.00</td>\n",
       "      <td>0.00</td>\n",
       "      <td>23.54</td>\n",
       "      <td>data\\KETI\\413</td>\n",
       "    </tr>\n",
       "    <tr>\n",
       "      <th>1377464765</th>\n",
       "      <td>463.00</td>\n",
       "      <td>52.30</td>\n",
       "      <td>111.00</td>\n",
       "      <td>0.00</td>\n",
       "      <td>23.56</td>\n",
       "      <td>data\\KETI\\413</td>\n",
       "    </tr>\n",
       "    <tr>\n",
       "      <th>1377467333</th>\n",
       "      <td>458.00</td>\n",
       "      <td>52.21</td>\n",
       "      <td>159.00</td>\n",
       "      <td>0.00</td>\n",
       "      <td>23.65</td>\n",
       "      <td>data\\KETI\\413</td>\n",
       "    </tr>\n",
       "    <tr>\n",
       "      <th>...</th>\n",
       "      <td>...</td>\n",
       "      <td>...</td>\n",
       "      <td>...</td>\n",
       "      <td>...</td>\n",
       "      <td>...</td>\n",
       "      <td>...</td>\n",
       "    </tr>\n",
       "    <tr>\n",
       "      <th>1377965997</th>\n",
       "      <td>496.00</td>\n",
       "      <td>56.67</td>\n",
       "      <td>153.00</td>\n",
       "      <td>0.00</td>\n",
       "      <td>23.02</td>\n",
       "      <td>data\\KETI\\776</td>\n",
       "    </tr>\n",
       "    <tr>\n",
       "      <th>1377966724</th>\n",
       "      <td>504.00</td>\n",
       "      <td>56.42</td>\n",
       "      <td>157.00</td>\n",
       "      <td>0.00</td>\n",
       "      <td>23.16</td>\n",
       "      <td>data\\KETI\\776</td>\n",
       "    </tr>\n",
       "    <tr>\n",
       "      <th>1377968206</th>\n",
       "      <td>497.00</td>\n",
       "      <td>55.86</td>\n",
       "      <td>141.00</td>\n",
       "      <td>0.00</td>\n",
       "      <td>23.43</td>\n",
       "      <td>data\\KETI\\776</td>\n",
       "    </tr>\n",
       "    <tr>\n",
       "      <th>1377968924</th>\n",
       "      <td>508.00</td>\n",
       "      <td>55.73</td>\n",
       "      <td>129.00</td>\n",
       "      <td>0.00</td>\n",
       "      <td>23.55</td>\n",
       "      <td>data\\KETI\\776</td>\n",
       "    </tr>\n",
       "    <tr>\n",
       "      <th>1377969689</th>\n",
       "      <td>492.00</td>\n",
       "      <td>55.55</td>\n",
       "      <td>115.00</td>\n",
       "      <td>0.00</td>\n",
       "      <td>23.71</td>\n",
       "      <td>data\\KETI\\776</td>\n",
       "    </tr>\n",
       "  </tbody>\n",
       "</table>\n",
       "<p>135378 rows × 6 columns</p>\n",
       "</div>"
      ],
      "text/plain": [
       "              co2  humidity  light  pir  temperature        room_ID\n",
       "1377457084 459.00     52.75 103.00 0.00        23.48  data\\KETI\\413\n",
       "1377457963 456.00     52.71 104.00 0.00        23.50  data\\KETI\\413\n",
       "1377462175 446.00     52.43 105.00 0.00        23.54  data\\KETI\\413\n",
       "1377464765 463.00     52.30 111.00 0.00        23.56  data\\KETI\\413\n",
       "1377467333 458.00     52.21 159.00 0.00        23.65  data\\KETI\\413\n",
       "...           ...       ...    ...  ...          ...            ...\n",
       "1377965997 496.00     56.67 153.00 0.00        23.02  data\\KETI\\776\n",
       "1377966724 504.00     56.42 157.00 0.00        23.16  data\\KETI\\776\n",
       "1377968206 497.00     55.86 141.00 0.00        23.43  data\\KETI\\776\n",
       "1377968924 508.00     55.73 129.00 0.00        23.55  data\\KETI\\776\n",
       "1377969689 492.00     55.55 115.00 0.00        23.71  data\\KETI\\776\n",
       "\n",
       "[135378 rows x 6 columns]"
      ]
     },
     "execution_count": 27,
     "metadata": {},
     "output_type": "execute_result"
    }
   ],
   "source": [
    "df.dropna(inplace=True)\n",
    "df"
   ]
  },
  {
   "cell_type": "code",
   "execution_count": 28,
   "id": "8539a9a0",
   "metadata": {
    "execution": {
     "iopub.execute_input": "2022-02-19T20:15:23.095936Z",
     "iopub.status.busy": "2022-02-19T20:15:23.095064Z",
     "iopub.status.idle": "2022-02-19T20:15:23.116303Z",
     "shell.execute_reply": "2022-02-19T20:15:23.116824Z"
    },
    "papermill": {
     "duration": 0.075317,
     "end_time": "2022-02-19T20:15:23.117003",
     "exception": false,
     "start_time": "2022-02-19T20:15:23.041686",
     "status": "completed"
    },
    "tags": []
   },
   "outputs": [
    {
     "data": {
      "text/plain": [
       "co2            0\n",
       "humidity       0\n",
       "light          0\n",
       "pir            0\n",
       "temperature    0\n",
       "room_ID        0\n",
       "dtype: int64"
      ]
     },
     "execution_count": 28,
     "metadata": {},
     "output_type": "execute_result"
    }
   ],
   "source": [
    "df.isnull().sum()"
   ]
  },
  {
   "cell_type": "code",
   "execution_count": 29,
   "id": "4b2c01a4",
   "metadata": {
    "execution": {
     "iopub.execute_input": "2022-02-19T20:15:23.217274Z",
     "iopub.status.busy": "2022-02-19T20:15:23.216519Z",
     "iopub.status.idle": "2022-02-19T20:15:23.245783Z",
     "shell.execute_reply": "2022-02-19T20:15:23.246412Z"
    },
    "papermill": {
     "duration": 0.081934,
     "end_time": "2022-02-19T20:15:23.246632",
     "exception": false,
     "start_time": "2022-02-19T20:15:23.164698",
     "status": "completed"
    },
    "tags": []
   },
   "outputs": [
    {
     "name": "stdout",
     "output_type": "stream",
     "text": [
      "(-569.5, 1282.5)\n",
      "(32.995, 80.555)\n",
      "(-847.2249999999913, 1417.3749999999854)\n",
      "(-34.5, 57.5)\n",
      "(17.585, 29.065000000000005)\n"
     ]
    }
   ],
   "source": [
    "def outlier_thresholds(dataframe, col_name, q1=0.05, q3=0.95):\n",
    "    quartile1 = dataframe[col_name].quantile(q1)\n",
    "    quartile3 = dataframe[col_name].quantile(q3)\n",
    "    interquantile_range = quartile3 - quartile1\n",
    "    up_limit = quartile3 + 1.5 * interquantile_range\n",
    "    low_limit = quartile1 - 1.5 * interquantile_range\n",
    "    return low_limit, up_limit\n",
    "for col in num_cols:\n",
    "    print(outlier_thresholds(df, col))"
   ]
  },
  {
   "cell_type": "code",
   "execution_count": 30,
   "id": "605ea313",
   "metadata": {
    "execution": {
     "iopub.execute_input": "2022-02-19T20:15:23.345260Z",
     "iopub.status.busy": "2022-02-19T20:15:23.344581Z",
     "iopub.status.idle": "2022-02-19T20:15:23.384563Z",
     "shell.execute_reply": "2022-02-19T20:15:23.383968Z"
    },
    "papermill": {
     "duration": 0.090932,
     "end_time": "2022-02-19T20:15:23.384752",
     "exception": false,
     "start_time": "2022-02-19T20:15:23.293820",
     "status": "completed"
    },
    "tags": []
   },
   "outputs": [
    {
     "name": "stdout",
     "output_type": "stream",
     "text": [
      "co2 False\n",
      "humidity False\n",
      "light True\n",
      "pir False\n",
      "temperature True\n"
     ]
    }
   ],
   "source": [
    "def check_outlier(dataframe, col_name):\n",
    "    low_limit, up_limit = outlier_thresholds(dataframe, col_name)\n",
    "    if dataframe[(dataframe[col_name] > up_limit) | (dataframe[col_name] < low_limit)].any(axis=None):\n",
    "        return True\n",
    "    else:\n",
    "        return False\n",
    "for col in num_cols:\n",
    "    print(col, check_outlier(df, col))"
   ]
  },
  {
   "cell_type": "code",
   "execution_count": 31,
   "id": "52d31957",
   "metadata": {
    "execution": {
     "iopub.execute_input": "2022-02-19T20:15:23.484232Z",
     "iopub.status.busy": "2022-02-19T20:15:23.483424Z",
     "iopub.status.idle": "2022-02-19T20:15:23.531788Z",
     "shell.execute_reply": "2022-02-19T20:15:23.532481Z"
    },
    "papermill": {
     "duration": 0.100135,
     "end_time": "2022-02-19T20:15:23.532713",
     "exception": false,
     "start_time": "2022-02-19T20:15:23.432578",
     "status": "completed"
    },
    "tags": []
   },
   "outputs": [
    {
     "name": "stdout",
     "output_type": "stream",
     "text": [
      "Empty DataFrame\n",
      "Columns: [co2, humidity, light, pir, temperature, room_ID]\n",
      "Index: []\n",
      "Empty DataFrame\n",
      "Columns: [co2, humidity, light, pir, temperature, room_ID]\n",
      "Index: []\n",
      "              co2  humidity   light   pir  temperature        room_ID\n",
      "1377299105 421.00     49.06 1977.00  0.00        24.81  data\\KETI\\668\n",
      "1377299126 426.00     49.10 2208.00  0.00        24.81  data\\KETI\\668\n",
      "1377299130 427.00     49.16 2267.00  0.00        24.80  data\\KETI\\668\n",
      "1377302763 421.00     50.16 2351.00 30.00        24.21  data\\KETI\\668\n",
      "1377302773 415.00     50.13 2347.00 29.00        24.20  data\\KETI\\668\n",
      "Empty DataFrame\n",
      "Columns: [co2, humidity, light, pir, temperature, room_ID]\n",
      "Index: []\n",
      "              co2  humidity  light   pir  temperature        room_ID\n",
      "1377299363 725.00     53.03 142.00 30.00       579.27  data\\KETI\\419\n",
      "1377299728 682.00     52.94 142.00 29.00       579.27  data\\KETI\\419\n",
      "1377299748 698.00     52.94 144.00 27.00       579.27  data\\KETI\\419\n",
      "1377299858 677.00     52.97 144.00 30.00       579.27  data\\KETI\\419\n",
      "1377300453 682.00     53.00 131.00 30.00       579.27  data\\KETI\\419\n"
     ]
    }
   ],
   "source": [
    "def grab_outliers(dataframe, col_name, index=False):\n",
    "    low, up = outlier_thresholds(dataframe, col_name)\n",
    "    if dataframe[((dataframe[col_name] < low) | (dataframe[col_name] > up))].shape[0] > 10:\n",
    "        print(dataframe[((dataframe[col_name] < low) | (dataframe[col_name] > up))].head())\n",
    "    else:\n",
    "        print(dataframe[((dataframe[col_name] < low) | (dataframe[col_name] > up))])\n",
    "\n",
    "    if index:\n",
    "        outlier_index = dataframe[((dataframe[col_name] < low) | (dataframe[col_name] > up))].index\n",
    "        return outlier_index\n",
    "for col in num_cols:\n",
    "    grab_outliers(df, col)"
   ]
  },
  {
   "cell_type": "code",
   "execution_count": 32,
   "id": "10a8e610",
   "metadata": {
    "execution": {
     "iopub.execute_input": "2022-02-19T20:15:23.638043Z",
     "iopub.status.busy": "2022-02-19T20:15:23.636060Z",
     "iopub.status.idle": "2022-02-19T20:15:23.659639Z",
     "shell.execute_reply": "2022-02-19T20:15:23.660173Z"
    },
    "papermill": {
     "duration": 0.078118,
     "end_time": "2022-02-19T20:15:23.660353",
     "exception": false,
     "start_time": "2022-02-19T20:15:23.582235",
     "status": "completed"
    },
    "tags": []
   },
   "outputs": [
    {
     "data": {
      "text/html": [
       "<div>\n",
       "<style scoped>\n",
       "    .dataframe tbody tr th:only-of-type {\n",
       "        vertical-align: middle;\n",
       "    }\n",
       "\n",
       "    .dataframe tbody tr th {\n",
       "        vertical-align: top;\n",
       "    }\n",
       "\n",
       "    .dataframe thead th {\n",
       "        text-align: right;\n",
       "    }\n",
       "</style>\n",
       "<table border=\"1\" class=\"dataframe\">\n",
       "  <thead>\n",
       "    <tr style=\"text-align: right;\">\n",
       "      <th></th>\n",
       "      <th>co2</th>\n",
       "      <th>humidity</th>\n",
       "      <th>light</th>\n",
       "      <th>pir</th>\n",
       "      <th>temperature</th>\n",
       "      <th>room_ID</th>\n",
       "    </tr>\n",
       "  </thead>\n",
       "  <tbody>\n",
       "    <tr>\n",
       "      <th>1377739785</th>\n",
       "      <td>504.00</td>\n",
       "      <td>58.36</td>\n",
       "      <td>40.00</td>\n",
       "      <td>30.00</td>\n",
       "      <td>23.74</td>\n",
       "      <td>data\\KETI\\552</td>\n",
       "    </tr>\n",
       "    <tr>\n",
       "      <th>1377349211</th>\n",
       "      <td>442.00</td>\n",
       "      <td>54.45</td>\n",
       "      <td>19.00</td>\n",
       "      <td>30.00</td>\n",
       "      <td>22.27</td>\n",
       "      <td>data\\KETI\\419</td>\n",
       "    </tr>\n",
       "    <tr>\n",
       "      <th>1377445691</th>\n",
       "      <td>490.00</td>\n",
       "      <td>58.82</td>\n",
       "      <td>166.00</td>\n",
       "      <td>30.00</td>\n",
       "      <td>25.22</td>\n",
       "      <td>data\\KETI\\621</td>\n",
       "    </tr>\n",
       "    <tr>\n",
       "      <th>1377445731</th>\n",
       "      <td>498.00</td>\n",
       "      <td>58.88</td>\n",
       "      <td>162.00</td>\n",
       "      <td>30.00</td>\n",
       "      <td>25.24</td>\n",
       "      <td>data\\KETI\\621</td>\n",
       "    </tr>\n",
       "    <tr>\n",
       "      <th>1377445876</th>\n",
       "      <td>501.00</td>\n",
       "      <td>58.82</td>\n",
       "      <td>166.00</td>\n",
       "      <td>30.00</td>\n",
       "      <td>25.26</td>\n",
       "      <td>data\\KETI\\621</td>\n",
       "    </tr>\n",
       "    <tr>\n",
       "      <th>...</th>\n",
       "      <td>...</td>\n",
       "      <td>...</td>\n",
       "      <td>...</td>\n",
       "      <td>...</td>\n",
       "      <td>...</td>\n",
       "      <td>...</td>\n",
       "    </tr>\n",
       "    <tr>\n",
       "      <th>1377893746</th>\n",
       "      <td>449.00</td>\n",
       "      <td>60.98</td>\n",
       "      <td>13.00</td>\n",
       "      <td>0.00</td>\n",
       "      <td>22.63</td>\n",
       "      <td>data\\KETI\\513</td>\n",
       "    </tr>\n",
       "    <tr>\n",
       "      <th>1377893736</th>\n",
       "      <td>448.00</td>\n",
       "      <td>60.98</td>\n",
       "      <td>13.00</td>\n",
       "      <td>0.00</td>\n",
       "      <td>22.63</td>\n",
       "      <td>data\\KETI\\513</td>\n",
       "    </tr>\n",
       "    <tr>\n",
       "      <th>1377893726</th>\n",
       "      <td>439.00</td>\n",
       "      <td>60.98</td>\n",
       "      <td>13.00</td>\n",
       "      <td>0.00</td>\n",
       "      <td>22.63</td>\n",
       "      <td>data\\KETI\\513</td>\n",
       "    </tr>\n",
       "    <tr>\n",
       "      <th>1377893716</th>\n",
       "      <td>449.00</td>\n",
       "      <td>60.98</td>\n",
       "      <td>12.00</td>\n",
       "      <td>0.00</td>\n",
       "      <td>22.62</td>\n",
       "      <td>data\\KETI\\513</td>\n",
       "    </tr>\n",
       "    <tr>\n",
       "      <th>1377969689</th>\n",
       "      <td>492.00</td>\n",
       "      <td>55.55</td>\n",
       "      <td>115.00</td>\n",
       "      <td>0.00</td>\n",
       "      <td>23.71</td>\n",
       "      <td>data\\KETI\\776</td>\n",
       "    </tr>\n",
       "  </tbody>\n",
       "</table>\n",
       "<p>135378 rows × 6 columns</p>\n",
       "</div>"
      ],
      "text/plain": [
       "              co2  humidity  light   pir  temperature        room_ID\n",
       "1377739785 504.00     58.36  40.00 30.00        23.74  data\\KETI\\552\n",
       "1377349211 442.00     54.45  19.00 30.00        22.27  data\\KETI\\419\n",
       "1377445691 490.00     58.82 166.00 30.00        25.22  data\\KETI\\621\n",
       "1377445731 498.00     58.88 162.00 30.00        25.24  data\\KETI\\621\n",
       "1377445876 501.00     58.82 166.00 30.00        25.26  data\\KETI\\621\n",
       "...           ...       ...    ...   ...          ...            ...\n",
       "1377893746 449.00     60.98  13.00  0.00        22.63  data\\KETI\\513\n",
       "1377893736 448.00     60.98  13.00  0.00        22.63  data\\KETI\\513\n",
       "1377893726 439.00     60.98  13.00  0.00        22.63  data\\KETI\\513\n",
       "1377893716 449.00     60.98  12.00  0.00        22.62  data\\KETI\\513\n",
       "1377969689 492.00     55.55 115.00  0.00        23.71  data\\KETI\\776\n",
       "\n",
       "[135378 rows x 6 columns]"
      ]
     },
     "execution_count": 32,
     "metadata": {},
     "output_type": "execute_result"
    }
   ],
   "source": [
    "df.sort_values(\"pir\",ascending = False)"
   ]
  },
  {
   "cell_type": "code",
   "execution_count": null,
   "id": "d49f7de2",
   "metadata": {},
   "outputs": [],
   "source": [
    "df.to_csv(\"data.csv\", index=False, encoding=\"utf-8\")"
   ]
  }
 ],
 "metadata": {
  "kernelspec": {
   "display_name": "Python 3.9.12 ('base')",
   "language": "python",
   "name": "python3"
  },
  "language_info": {
   "codemirror_mode": {
    "name": "ipython",
    "version": 3
   },
   "file_extension": ".py",
   "mimetype": "text/x-python",
   "name": "python",
   "nbconvert_exporter": "python",
   "pygments_lexer": "ipython3",
   "version": "3.9.12"
  },
  "papermill": {
   "default_parameters": {},
   "duration": 175.443101,
   "end_time": "2022-02-19T20:15:24.623485",
   "environment_variables": {},
   "exception": null,
   "input_path": "__notebook__.ipynb",
   "output_path": "__notebook__.ipynb",
   "parameters": {},
   "start_time": "2022-02-19T20:12:29.180384",
   "version": "2.3.3"
  },
  "vscode": {
   "interpreter": {
    "hash": "9e01743d3bd8d1ed296db078c76b392629576cacb85fe2a935c8f3805fa3334e"
   }
  }
 },
 "nbformat": 4,
 "nbformat_minor": 5
}
